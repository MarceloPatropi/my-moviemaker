{
 "cells": [
  {
   "cell_type": "code",
   "execution_count": 54,
   "id": "c3f3d464-5289-4f9a-9724-e59adefa1ec3",
   "metadata": {},
   "outputs": [
    {
     "data": {
      "text/markdown": [
       "### Tabela da Árvore Conceitual"
      ],
      "text/plain": [
       "<IPython.core.display.Markdown object>"
      ]
     },
     "metadata": {},
     "output_type": "display_data"
    },
    {
     "data": {
      "text/html": [
       "<div>\n",
       "<style scoped>\n",
       "    .dataframe tbody tr th:only-of-type {\n",
       "        vertical-align: middle;\n",
       "    }\n",
       "\n",
       "    .dataframe tbody tr th {\n",
       "        vertical-align: top;\n",
       "    }\n",
       "\n",
       "    .dataframe thead th {\n",
       "        text-align: right;\n",
       "    }\n",
       "</style>\n",
       "<table border=\"1\" class=\"dataframe\">\n",
       "  <thead>\n",
       "    <tr style=\"text-align: right;\">\n",
       "      <th></th>\n",
       "      <th>id</th>\n",
       "      <th>text</th>\n",
       "      <th>shape</th>\n",
       "      <th>parent</th>\n",
       "    </tr>\n",
       "  </thead>\n",
       "  <tbody>\n",
       "    <tr>\n",
       "      <th>0</th>\n",
       "      <td>1</td>\n",
       "      <td>Raiz</td>\n",
       "      <td>circle</td>\n",
       "      <td>null</td>\n",
       "    </tr>\n",
       "    <tr>\n",
       "      <th>1</th>\n",
       "      <td>2</td>\n",
       "      <td>Galho 1</td>\n",
       "      <td>rectangle</td>\n",
       "      <td>1</td>\n",
       "    </tr>\n",
       "    <tr>\n",
       "      <th>2</th>\n",
       "      <td>3</td>\n",
       "      <td>Galho 2</td>\n",
       "      <td>rectangle</td>\n",
       "      <td>1</td>\n",
       "    </tr>\n",
       "    <tr>\n",
       "      <th>3</th>\n",
       "      <td>4</td>\n",
       "      <td>Folha 2.1</td>\n",
       "      <td>ellipse</td>\n",
       "      <td>2</td>\n",
       "    </tr>\n",
       "    <tr>\n",
       "      <th>4</th>\n",
       "      <td>5</td>\n",
       "      <td>Folha 2.2</td>\n",
       "      <td>circle</td>\n",
       "      <td>2</td>\n",
       "    </tr>\n",
       "    <tr>\n",
       "      <th>5</th>\n",
       "      <td>6</td>\n",
       "      <td>Galho 3</td>\n",
       "      <td>circle</td>\n",
       "      <td>1</td>\n",
       "    </tr>\n",
       "    <tr>\n",
       "      <th>6</th>\n",
       "      <td>7</td>\n",
       "      <td>Folha 3.1</td>\n",
       "      <td>Square</td>\n",
       "      <td>6</td>\n",
       "    </tr>\n",
       "  </tbody>\n",
       "</table>\n",
       "</div>"
      ],
      "text/plain": [
       "   id       text      shape parent\n",
       "0   1       Raiz     circle   null\n",
       "1   2    Galho 1  rectangle      1\n",
       "2   3    Galho 2  rectangle      1\n",
       "3   4  Folha 2.1    ellipse      2\n",
       "4   5  Folha 2.2     circle      2\n",
       "5   6    Galho 3     circle      1\n",
       "6   7  Folha 3.1     Square      6"
      ]
     },
     "metadata": {},
     "output_type": "display_data"
    },
    {
     "data": {
      "text/plain": [
       "{'type': 'ArvoreConceitual',\n",
       " 'title': 'Árvore Conceitual',\n",
       " 'nodes': {'text': 'Raiz',\n",
       "  'shape': 'circle',\n",
       "  'children': [{'text': 'Galho 1',\n",
       "    'shape': 'rectangle',\n",
       "    'children': [{'text': 'Folha 2.1', 'shape': 'ellipse', 'children': []},\n",
       "     {'text': 'Folha 2.2', 'shape': 'circle', 'children': []}]},\n",
       "   {'text': 'Galho 2', 'shape': 'rectangle', 'children': []},\n",
       "   {'text': 'Galho 3',\n",
       "    'shape': 'circle',\n",
       "    'children': [{'text': 'Folha 3.1', 'shape': 'Square', 'children': []}]}]}}"
      ]
     },
     "execution_count": 54,
     "metadata": {},
     "output_type": "execute_result"
    }
   ],
   "source": [
    "# Importar bibliotecas necessárias\n",
    "import pandas as pd\n",
    "from manim import *\n",
    "from IPython.display import display, Markdown\n",
    "\n",
    "# Ler o arquivo Markdown no formato de tabela\n",
    "file_path = \"../scenes/arvore_conceitual.md\"\n",
    "data = pd.read_csv(file_path, sep=\"|\", skiprows=1, usecols=[1, 2, 3, 4])\n",
    "\n",
    "# Renomear colunas e limpar espaços extras\n",
    "data.columns = [\"id\", \"text\", \"shape\", \"parent\"]\n",
    "data = data.apply(lambda x: x.str.strip() if x.dtype == \"object\" else x)\n",
    "\n",
    "# Exibir título e tabela\n",
    "display(Markdown(\"### Tabela da Árvore Conceitual\"))\n",
    "display(data)\n",
    "\n",
    "# Função para criar os nós e as conexões\n",
    "class ArvoreConceitual(Scene):\n",
    "    def construct(self):\n",
    "        # Dicionário para armazenar os objetos dos nós\n",
    "        nodes = {}\n",
    "        \n",
    "        # Criar os nós com base na tabela\n",
    "        for _, row in data.iterrows():\n",
    "            if row[\"shape\"] == \"circle\":\n",
    "                node = Circle().scale(0.5).set_fill(BLUE, opacity=0.5)\n",
    "            elif row[\"shape\"] == \"rectangle\":\n",
    "                node = Square().scale(0.5).set_fill(RED, opacity=0.5)\n",
    "            elif row[\"shape\"] == \"ellipse\":\n",
    "                node = Ellipse(width=2.0, height=1.0).set_fill(GREEN, opacity=0.5)\n",
    "            else:\n",
    "                node = Dot()\n",
    "            \n",
    "        node_text = Text(row[\"text\"]).scale(0.5)\n",
    "        group = VGroup(node, node_text).arrange(UP)\n",
    "\n",
    "        parent_index = nodes.get(int(row[\"parent\"]))\n",
    "        console.log(parent_index)\n",
    "\n",
    "        if parent_index == \"null\" or parent_index is None:\n",
    "            group.move_to(ORIGIN)\n",
    "        else:\n",
    "            parent_node = nodes.get(int(row[\"parent\"]))\n",
    "            group.next_to(parent_node, DOWN, buff=1)\n",
    "        \n",
    "        self.add(group)\n",
    "        self.play(Create(group))\n",
    "        nodes[row[\"id\"]] = group\n",
    "\n",
    "        # Conectar os nós com linhas\n",
    "        for _, row in data.iterrows():\n",
    "            if row[\"parent\"] != \"null\":\n",
    "                parent_id = int(row[\"parent\"])\n",
    "                self.add(Line(nodes[parent_id].get_center(), nodes[row[\"id\"]].get_center()))\n",
    "\n",
    "def build_tree(df):\n",
    "    \"\"\"\n",
    "    Converte o DataFrame em uma estrutura hierárquica.\n",
    "    \"\"\"\n",
    "    nodes = {}\n",
    "    for _, row in df.iterrows():\n",
    "        node = {\n",
    "            \"text\": row[\"text\"],\n",
    "            \"shape\": row[\"shape\"],\n",
    "            \"children\": []\n",
    "        }\n",
    "        nodes[row[\"id\"]] = node\n",
    "\n",
    "    # Construir hierarquia\n",
    "    for _, row in df.iterrows():\n",
    "        parent_id = row[\"parent\"]\n",
    "        if parent_id != \"null\":\n",
    "            parent_id = int(parent_id)\n",
    "            nodes[parent_id][\"children\"].append(nodes[row[\"id\"]])\n",
    "    \n",
    "    # Retorna o nó raiz\n",
    "    return nodes[1]\n",
    "\n",
    "raiz = build_tree(data)\n",
    "tree_data = {\n",
    "    \"type\": \"ArvoreConceitual\",\n",
    "    \"title\": \"Árvore Conceitual\",\n",
    "    \"nodes\": raiz\n",
    "}\n",
    "\n",
    "tree_data\n"
   ]
  },
  {
   "cell_type": "code",
   "execution_count": 55,
   "id": "8eb9649d-db04-44db-adfd-6f14085b9b0c",
   "metadata": {},
   "outputs": [
    {
     "data": {
      "text/html": [
       "<pre style=\"white-space:pre;overflow-x:auto;line-height:normal;font-family:Menlo,'DejaVu Sans Mono',consolas,'Courier New',monospace\"><span style=\"color: #7fbfbf; text-decoration-color: #7fbfbf\">[19:17:50] </span><span style=\"font-weight: bold\">{</span>                                                                                        <a href=\"file:///tmp/ipykernel_12028/1093343438.py\" target=\"_blank\"><span style=\"color: #7f7f7f; text-decoration-color: #7f7f7f\">1093343438.py</span></a><span style=\"color: #7f7f7f; text-decoration-color: #7f7f7f\">:</span><a href=\"file:///tmp/ipykernel_12028/1093343438.py#3\" target=\"_blank\"><span style=\"color: #7f7f7f; text-decoration-color: #7f7f7f\">3</span></a>\n",
       "<span style=\"color: #7fbfbf; text-decoration-color: #7fbfbf\">           </span>    <span style=\"color: #008000; text-decoration-color: #008000\">'type'</span>: <span style=\"color: #008000; text-decoration-color: #008000\">'ArvoreConceitual'</span>,                                                          <span style=\"color: #7f7f7f; text-decoration-color: #7f7f7f\">               </span>\n",
       "<span style=\"color: #7fbfbf; text-decoration-color: #7fbfbf\">           </span>    <span style=\"color: #008000; text-decoration-color: #008000\">'title'</span>: <span style=\"color: #008000; text-decoration-color: #008000\">'Árvore Conceitual'</span>,                                                        <span style=\"color: #7f7f7f; text-decoration-color: #7f7f7f\">               </span>\n",
       "<span style=\"color: #7fbfbf; text-decoration-color: #7fbfbf\">           </span>    <span style=\"color: #008000; text-decoration-color: #008000\">'nodes'</span>: <span style=\"font-weight: bold\">{</span>                                                                           <span style=\"color: #7f7f7f; text-decoration-color: #7f7f7f\">               </span>\n",
       "<span style=\"color: #7fbfbf; text-decoration-color: #7fbfbf\">           </span>        <span style=\"color: #008000; text-decoration-color: #008000\">'text'</span>: <span style=\"color: #008000; text-decoration-color: #008000\">'Raiz'</span>,                                                                  <span style=\"color: #7f7f7f; text-decoration-color: #7f7f7f\">               </span>\n",
       "<span style=\"color: #7fbfbf; text-decoration-color: #7fbfbf\">           </span>        <span style=\"color: #008000; text-decoration-color: #008000\">'shape'</span>: <span style=\"color: #008000; text-decoration-color: #008000\">'circle'</span>,                                                               <span style=\"color: #7f7f7f; text-decoration-color: #7f7f7f\">               </span>\n",
       "<span style=\"color: #7fbfbf; text-decoration-color: #7fbfbf\">           </span>        <span style=\"color: #008000; text-decoration-color: #008000\">'children'</span>: <span style=\"font-weight: bold\">[</span>                                                                    <span style=\"color: #7f7f7f; text-decoration-color: #7f7f7f\">               </span>\n",
       "<span style=\"color: #7fbfbf; text-decoration-color: #7fbfbf\">           </span>            <span style=\"font-weight: bold\">{</span>                                                                            <span style=\"color: #7f7f7f; text-decoration-color: #7f7f7f\">               </span>\n",
       "<span style=\"color: #7fbfbf; text-decoration-color: #7fbfbf\">           </span>                <span style=\"color: #008000; text-decoration-color: #008000\">'text'</span>: <span style=\"color: #008000; text-decoration-color: #008000\">'Galho 1'</span>,                                                       <span style=\"color: #7f7f7f; text-decoration-color: #7f7f7f\">               </span>\n",
       "<span style=\"color: #7fbfbf; text-decoration-color: #7fbfbf\">           </span>                <span style=\"color: #008000; text-decoration-color: #008000\">'shape'</span>: <span style=\"color: #008000; text-decoration-color: #008000\">'rectangle'</span>,                                                    <span style=\"color: #7f7f7f; text-decoration-color: #7f7f7f\">               </span>\n",
       "<span style=\"color: #7fbfbf; text-decoration-color: #7fbfbf\">           </span>                <span style=\"color: #008000; text-decoration-color: #008000\">'children'</span>: <span style=\"font-weight: bold\">[</span>                                                            <span style=\"color: #7f7f7f; text-decoration-color: #7f7f7f\">               </span>\n",
       "<span style=\"color: #7fbfbf; text-decoration-color: #7fbfbf\">           </span>                    <span style=\"font-weight: bold\">{</span><span style=\"color: #008000; text-decoration-color: #008000\">'text'</span>: <span style=\"color: #008000; text-decoration-color: #008000\">'Folha 2.1'</span>, <span style=\"color: #008000; text-decoration-color: #008000\">'shape'</span>: <span style=\"color: #008000; text-decoration-color: #008000\">'ellipse'</span>, <span style=\"color: #008000; text-decoration-color: #008000\">'children'</span>: <span style=\"font-weight: bold\">[]}</span>,           <span style=\"color: #7f7f7f; text-decoration-color: #7f7f7f\">               </span>\n",
       "<span style=\"color: #7fbfbf; text-decoration-color: #7fbfbf\">           </span>                    <span style=\"font-weight: bold\">{</span><span style=\"color: #008000; text-decoration-color: #008000\">'text'</span>: <span style=\"color: #008000; text-decoration-color: #008000\">'Folha 2.2'</span>, <span style=\"color: #008000; text-decoration-color: #008000\">'shape'</span>: <span style=\"color: #008000; text-decoration-color: #008000\">'circle'</span>, <span style=\"color: #008000; text-decoration-color: #008000\">'children'</span>: <span style=\"font-weight: bold\">[]}</span>             <span style=\"color: #7f7f7f; text-decoration-color: #7f7f7f\">               </span>\n",
       "<span style=\"color: #7fbfbf; text-decoration-color: #7fbfbf\">           </span>                <span style=\"font-weight: bold\">]</span>                                                                        <span style=\"color: #7f7f7f; text-decoration-color: #7f7f7f\">               </span>\n",
       "<span style=\"color: #7fbfbf; text-decoration-color: #7fbfbf\">           </span>            <span style=\"font-weight: bold\">}</span>,                                                                           <span style=\"color: #7f7f7f; text-decoration-color: #7f7f7f\">               </span>\n",
       "<span style=\"color: #7fbfbf; text-decoration-color: #7fbfbf\">           </span>            <span style=\"font-weight: bold\">{</span><span style=\"color: #008000; text-decoration-color: #008000\">'text'</span>: <span style=\"color: #008000; text-decoration-color: #008000\">'Galho 2'</span>, <span style=\"color: #008000; text-decoration-color: #008000\">'shape'</span>: <span style=\"color: #008000; text-decoration-color: #008000\">'rectangle'</span>, <span style=\"color: #008000; text-decoration-color: #008000\">'children'</span>: <span style=\"font-weight: bold\">[]}</span>,                   <span style=\"color: #7f7f7f; text-decoration-color: #7f7f7f\">               </span>\n",
       "<span style=\"color: #7fbfbf; text-decoration-color: #7fbfbf\">           </span>            <span style=\"font-weight: bold\">{</span>                                                                            <span style=\"color: #7f7f7f; text-decoration-color: #7f7f7f\">               </span>\n",
       "<span style=\"color: #7fbfbf; text-decoration-color: #7fbfbf\">           </span>                <span style=\"color: #008000; text-decoration-color: #008000\">'text'</span>: <span style=\"color: #008000; text-decoration-color: #008000\">'Galho 3'</span>,                                                       <span style=\"color: #7f7f7f; text-decoration-color: #7f7f7f\">               </span>\n",
       "<span style=\"color: #7fbfbf; text-decoration-color: #7fbfbf\">           </span>                <span style=\"color: #008000; text-decoration-color: #008000\">'shape'</span>: <span style=\"color: #008000; text-decoration-color: #008000\">'circle'</span>,                                                       <span style=\"color: #7f7f7f; text-decoration-color: #7f7f7f\">               </span>\n",
       "<span style=\"color: #7fbfbf; text-decoration-color: #7fbfbf\">           </span>                <span style=\"color: #008000; text-decoration-color: #008000\">'children'</span>: <span style=\"font-weight: bold\">[{</span><span style=\"color: #008000; text-decoration-color: #008000\">'text'</span>: <span style=\"color: #008000; text-decoration-color: #008000\">'Folha 3.1'</span>, <span style=\"color: #008000; text-decoration-color: #008000\">'shape'</span>: <span style=\"color: #008000; text-decoration-color: #008000\">'Square'</span>, <span style=\"color: #008000; text-decoration-color: #008000\">'children'</span>: <span style=\"font-weight: bold\">[]}]</span>   <span style=\"color: #7f7f7f; text-decoration-color: #7f7f7f\">               </span>\n",
       "<span style=\"color: #7fbfbf; text-decoration-color: #7fbfbf\">           </span>            <span style=\"font-weight: bold\">}</span>                                                                            <span style=\"color: #7f7f7f; text-decoration-color: #7f7f7f\">               </span>\n",
       "<span style=\"color: #7fbfbf; text-decoration-color: #7fbfbf\">           </span>        <span style=\"font-weight: bold\">]</span>                                                                                <span style=\"color: #7f7f7f; text-decoration-color: #7f7f7f\">               </span>\n",
       "<span style=\"color: #7fbfbf; text-decoration-color: #7fbfbf\">           </span>    <span style=\"font-weight: bold\">}</span>                                                                                    <span style=\"color: #7f7f7f; text-decoration-color: #7f7f7f\">               </span>\n",
       "<span style=\"color: #7fbfbf; text-decoration-color: #7fbfbf\">           </span><span style=\"font-weight: bold\">}</span>                                                                                        <span style=\"color: #7f7f7f; text-decoration-color: #7f7f7f\">               </span>\n",
       "</pre>\n"
      ],
      "text/plain": [
       "\u001b[2;36m[19:17:50]\u001b[0m\u001b[2;36m \u001b[0m\u001b[1m{\u001b[0m                                                                                        \u001b]8;id=432645;file:///tmp/ipykernel_12028/1093343438.py\u001b\\\u001b[2m1093343438.py\u001b[0m\u001b]8;;\u001b\\\u001b[2m:\u001b[0m\u001b]8;id=341670;file:///tmp/ipykernel_12028/1093343438.py#3\u001b\\\u001b[2m3\u001b[0m\u001b]8;;\u001b\\\n",
       "\u001b[2;36m           \u001b[0m    \u001b[32m'type'\u001b[0m: \u001b[32m'ArvoreConceitual'\u001b[0m,                                                          \u001b[2m               \u001b[0m\n",
       "\u001b[2;36m           \u001b[0m    \u001b[32m'title'\u001b[0m: \u001b[32m'Árvore Conceitual'\u001b[0m,                                                        \u001b[2m               \u001b[0m\n",
       "\u001b[2;36m           \u001b[0m    \u001b[32m'nodes'\u001b[0m: \u001b[1m{\u001b[0m                                                                           \u001b[2m               \u001b[0m\n",
       "\u001b[2;36m           \u001b[0m        \u001b[32m'text'\u001b[0m: \u001b[32m'Raiz'\u001b[0m,                                                                  \u001b[2m               \u001b[0m\n",
       "\u001b[2;36m           \u001b[0m        \u001b[32m'shape'\u001b[0m: \u001b[32m'circle'\u001b[0m,                                                               \u001b[2m               \u001b[0m\n",
       "\u001b[2;36m           \u001b[0m        \u001b[32m'children'\u001b[0m: \u001b[1m[\u001b[0m                                                                    \u001b[2m               \u001b[0m\n",
       "\u001b[2;36m           \u001b[0m            \u001b[1m{\u001b[0m                                                                            \u001b[2m               \u001b[0m\n",
       "\u001b[2;36m           \u001b[0m                \u001b[32m'text'\u001b[0m: \u001b[32m'Galho 1'\u001b[0m,                                                       \u001b[2m               \u001b[0m\n",
       "\u001b[2;36m           \u001b[0m                \u001b[32m'shape'\u001b[0m: \u001b[32m'rectangle'\u001b[0m,                                                    \u001b[2m               \u001b[0m\n",
       "\u001b[2;36m           \u001b[0m                \u001b[32m'children'\u001b[0m: \u001b[1m[\u001b[0m                                                            \u001b[2m               \u001b[0m\n",
       "\u001b[2;36m           \u001b[0m                    \u001b[1m{\u001b[0m\u001b[32m'text'\u001b[0m: \u001b[32m'Folha 2.1'\u001b[0m, \u001b[32m'shape'\u001b[0m: \u001b[32m'ellipse'\u001b[0m, \u001b[32m'children'\u001b[0m: \u001b[1m[\u001b[0m\u001b[1m]\u001b[0m\u001b[1m}\u001b[0m,           \u001b[2m               \u001b[0m\n",
       "\u001b[2;36m           \u001b[0m                    \u001b[1m{\u001b[0m\u001b[32m'text'\u001b[0m: \u001b[32m'Folha 2.2'\u001b[0m, \u001b[32m'shape'\u001b[0m: \u001b[32m'circle'\u001b[0m, \u001b[32m'children'\u001b[0m: \u001b[1m[\u001b[0m\u001b[1m]\u001b[0m\u001b[1m}\u001b[0m             \u001b[2m               \u001b[0m\n",
       "\u001b[2;36m           \u001b[0m                \u001b[1m]\u001b[0m                                                                        \u001b[2m               \u001b[0m\n",
       "\u001b[2;36m           \u001b[0m            \u001b[1m}\u001b[0m,                                                                           \u001b[2m               \u001b[0m\n",
       "\u001b[2;36m           \u001b[0m            \u001b[1m{\u001b[0m\u001b[32m'text'\u001b[0m: \u001b[32m'Galho 2'\u001b[0m, \u001b[32m'shape'\u001b[0m: \u001b[32m'rectangle'\u001b[0m, \u001b[32m'children'\u001b[0m: \u001b[1m[\u001b[0m\u001b[1m]\u001b[0m\u001b[1m}\u001b[0m,                   \u001b[2m               \u001b[0m\n",
       "\u001b[2;36m           \u001b[0m            \u001b[1m{\u001b[0m                                                                            \u001b[2m               \u001b[0m\n",
       "\u001b[2;36m           \u001b[0m                \u001b[32m'text'\u001b[0m: \u001b[32m'Galho 3'\u001b[0m,                                                       \u001b[2m               \u001b[0m\n",
       "\u001b[2;36m           \u001b[0m                \u001b[32m'shape'\u001b[0m: \u001b[32m'circle'\u001b[0m,                                                       \u001b[2m               \u001b[0m\n",
       "\u001b[2;36m           \u001b[0m                \u001b[32m'children'\u001b[0m: \u001b[1m[\u001b[0m\u001b[1m{\u001b[0m\u001b[32m'text'\u001b[0m: \u001b[32m'Folha 3.1'\u001b[0m, \u001b[32m'shape'\u001b[0m: \u001b[32m'Square'\u001b[0m, \u001b[32m'children'\u001b[0m: \u001b[1m[\u001b[0m\u001b[1m]\u001b[0m\u001b[1m}\u001b[0m\u001b[1m]\u001b[0m   \u001b[2m               \u001b[0m\n",
       "\u001b[2;36m           \u001b[0m            \u001b[1m}\u001b[0m                                                                            \u001b[2m               \u001b[0m\n",
       "\u001b[2;36m           \u001b[0m        \u001b[1m]\u001b[0m                                                                                \u001b[2m               \u001b[0m\n",
       "\u001b[2;36m           \u001b[0m    \u001b[1m}\u001b[0m                                                                                    \u001b[2m               \u001b[0m\n",
       "\u001b[2;36m           \u001b[0m\u001b[1m}\u001b[0m                                                                                        \u001b[2m               \u001b[0m\n"
      ]
     },
     "metadata": {},
     "output_type": "display_data"
    },
    {
     "data": {
      "text/html": [
       "<pre style=\"white-space:pre;overflow-x:auto;line-height:normal;font-family:Menlo,'DejaVu Sans Mono',consolas,'Courier New',monospace\"><span style=\"color: #7fbfbf; text-decoration-color: #7fbfbf\">           </span><span style=\"color: #800080; text-decoration-color: #800080; font-style: italic\">None</span>                                                                                    <a href=\"file:///tmp/ipykernel_12028/3006157370.py\" target=\"_blank\"><span style=\"color: #7f7f7f; text-decoration-color: #7f7f7f\">3006157370.py</span></a><span style=\"color: #7f7f7f; text-decoration-color: #7f7f7f\">:</span><a href=\"file:///tmp/ipykernel_12028/3006157370.py#39\" target=\"_blank\"><span style=\"color: #7f7f7f; text-decoration-color: #7f7f7f\">39</span></a>\n",
       "</pre>\n"
      ],
      "text/plain": [
       "\u001b[2;36m          \u001b[0m\u001b[2;36m \u001b[0m\u001b[3;35mNone\u001b[0m                                                                                    \u001b]8;id=636356;file:///tmp/ipykernel_12028/3006157370.py\u001b\\\u001b[2m3006157370.py\u001b[0m\u001b]8;;\u001b\\\u001b[2m:\u001b[0m\u001b]8;id=208202;file:///tmp/ipykernel_12028/3006157370.py#39\u001b\\\u001b[2m39\u001b[0m\u001b]8;;\u001b\\\n"
      ]
     },
     "metadata": {},
     "output_type": "display_data"
    },
    {
     "name": "stderr",
     "output_type": "stream",
     "text": [
      "                                                                                             "
     ]
    },
    {
     "data": {
      "text/html": [
       "<pre style=\"white-space:pre;overflow-x:auto;line-height:normal;font-family:Menlo,'DejaVu Sans Mono',consolas,'Courier New',monospace\"><span style=\"color: #7fbfbf; text-decoration-color: #7fbfbf\">[01/17/25 19:19:13] </span><span style=\"color: #008000; text-decoration-color: #008000\">INFO    </span> Animation <span style=\"color: #008000; text-decoration-color: #008000\">0</span> : Partial movie file written in                   <a href=\"file:///home/ec2-user/.local/lib/python3.9/site-packages/manim/scene/scene_file_writer.py\" target=\"_blank\"><span style=\"color: #7f7f7f; text-decoration-color: #7f7f7f\">scene_file_writer.py</span></a><span style=\"color: #7f7f7f; text-decoration-color: #7f7f7f\">:</span><a href=\"file:///home/ec2-user/.local/lib/python3.9/site-packages/manim/scene/scene_file_writer.py#527\" target=\"_blank\"><span style=\"color: #7f7f7f; text-decoration-color: #7f7f7f\">527</span></a>\n",
       "<span style=\"color: #7fbfbf; text-decoration-color: #7fbfbf\">                    </span>         <span style=\"color: #008000; text-decoration-color: #008000\">'/home/ec2-user/moviemaker/templates/media/videos/1080p60/par</span> <span style=\"color: #7f7f7f; text-decoration-color: #7f7f7f\">                        </span>\n",
       "<span style=\"color: #7fbfbf; text-decoration-color: #7fbfbf\">                    </span>         <span style=\"color: #008000; text-decoration-color: #008000\">tial_movie_files/ArvoreConceitual/3977891868_1870908798_14128</span> <span style=\"color: #7f7f7f; text-decoration-color: #7f7f7f\">                        </span>\n",
       "<span style=\"color: #7fbfbf; text-decoration-color: #7fbfbf\">                    </span>         <span style=\"color: #008000; text-decoration-color: #008000\">41409.mp4'</span>                                                    <span style=\"color: #7f7f7f; text-decoration-color: #7f7f7f\">                        </span>\n",
       "</pre>\n"
      ],
      "text/plain": [
       "\u001b[2;36m[01/17/25 19:19:13]\u001b[0m\u001b[2;36m \u001b[0m\u001b[32mINFO    \u001b[0m Animation \u001b[32m0\u001b[0m : Partial movie file written in                   \u001b]8;id=773921;file:///home/ec2-user/.local/lib/python3.9/site-packages/manim/scene/scene_file_writer.py\u001b\\\u001b[2mscene_file_writer.py\u001b[0m\u001b]8;;\u001b\\\u001b[2m:\u001b[0m\u001b]8;id=174177;file:///home/ec2-user/.local/lib/python3.9/site-packages/manim/scene/scene_file_writer.py#527\u001b\\\u001b[2m527\u001b[0m\u001b]8;;\u001b\\\n",
       "\u001b[2;36m                    \u001b[0m         \u001b[32m'/home/ec2-user/moviemaker/templates/media/videos/1080p60/par\u001b[0m \u001b[2m                        \u001b[0m\n",
       "\u001b[2;36m                    \u001b[0m         \u001b[32mtial_movie_files/ArvoreConceitual/3977891868_1870908798_14128\u001b[0m \u001b[2m                        \u001b[0m\n",
       "\u001b[2;36m                    \u001b[0m         \u001b[32m41409.mp4'\u001b[0m                                                    \u001b[2m                        \u001b[0m\n"
      ]
     },
     "metadata": {},
     "output_type": "display_data"
    },
    {
     "ename": "KeyError",
     "evalue": "1",
     "output_type": "error",
     "traceback": [
      "\u001b[0;31m---------------------------------------------------------------------------\u001b[0m",
      "\u001b[0;31mKeyError\u001b[0m                                  Traceback (most recent call last)",
      "Cell \u001b[0;32mIn[55], line 5\u001b[0m\n\u001b[1;32m      3\u001b[0m console\u001b[38;5;241m.\u001b[39mlog(tree_data)\n\u001b[1;32m      4\u001b[0m scene \u001b[38;5;241m=\u001b[39m ArvoreConceitual()\n\u001b[0;32m----> 5\u001b[0m \u001b[43mscene\u001b[49m\u001b[38;5;241;43m.\u001b[39;49m\u001b[43mrender\u001b[49m\u001b[43m(\u001b[49m\u001b[43m)\u001b[49m\n\u001b[1;32m      7\u001b[0m \u001b[38;5;66;03m# Mostrar o vídeo renderizado\u001b[39;00m\n\u001b[1;32m      8\u001b[0m \u001b[38;5;28;01mfrom\u001b[39;00m\u001b[38;5;250m \u001b[39m\u001b[38;5;21;01mIPython\u001b[39;00m\u001b[38;5;21;01m.\u001b[39;00m\u001b[38;5;21;01mdisplay\u001b[39;00m\u001b[38;5;250m \u001b[39m\u001b[38;5;28;01mimport\u001b[39;00m Video\n",
      "File \u001b[0;32m~/.local/lib/python3.9/site-packages/manim/scene/scene.py:229\u001b[0m, in \u001b[0;36mScene.render\u001b[0;34m(self, preview)\u001b[0m\n\u001b[1;32m    227\u001b[0m \u001b[38;5;28mself\u001b[39m\u001b[38;5;241m.\u001b[39msetup()\n\u001b[1;32m    228\u001b[0m \u001b[38;5;28;01mtry\u001b[39;00m:\n\u001b[0;32m--> 229\u001b[0m     \u001b[38;5;28;43mself\u001b[39;49m\u001b[38;5;241;43m.\u001b[39;49m\u001b[43mconstruct\u001b[49m\u001b[43m(\u001b[49m\u001b[43m)\u001b[49m\n\u001b[1;32m    230\u001b[0m \u001b[38;5;28;01mexcept\u001b[39;00m EndSceneEarlyException:\n\u001b[1;32m    231\u001b[0m     \u001b[38;5;28;01mpass\u001b[39;00m\n",
      "Cell \u001b[0;32mIn[54], line 55\u001b[0m, in \u001b[0;36mArvoreConceitual.construct\u001b[0;34m(self)\u001b[0m\n\u001b[1;32m     53\u001b[0m \u001b[38;5;28;01mif\u001b[39;00m row[\u001b[38;5;124m\"\u001b[39m\u001b[38;5;124mparent\u001b[39m\u001b[38;5;124m\"\u001b[39m] \u001b[38;5;241m!=\u001b[39m \u001b[38;5;124m\"\u001b[39m\u001b[38;5;124mnull\u001b[39m\u001b[38;5;124m\"\u001b[39m:\n\u001b[1;32m     54\u001b[0m     parent_id \u001b[38;5;241m=\u001b[39m \u001b[38;5;28mint\u001b[39m(row[\u001b[38;5;124m\"\u001b[39m\u001b[38;5;124mparent\u001b[39m\u001b[38;5;124m\"\u001b[39m])\n\u001b[0;32m---> 55\u001b[0m     \u001b[38;5;28mself\u001b[39m\u001b[38;5;241m.\u001b[39madd(Line(\u001b[43mnodes\u001b[49m\u001b[43m[\u001b[49m\u001b[43mparent_id\u001b[49m\u001b[43m]\u001b[49m\u001b[38;5;241m.\u001b[39mget_center(), nodes[row[\u001b[38;5;124m\"\u001b[39m\u001b[38;5;124mid\u001b[39m\u001b[38;5;124m\"\u001b[39m]]\u001b[38;5;241m.\u001b[39mget_center()))\n",
      "\u001b[0;31mKeyError\u001b[0m: 1"
     ]
    }
   ],
   "source": [
    "# Renderizar a cena\n",
    "config.media_width = \"75%\"\n",
    "console.log(tree_data)\n",
    "scene = ArvoreConceitual()\n",
    "scene.render()\n",
    "\n",
    "# Mostrar o vídeo renderizado\n",
    "from IPython.display import Video\n",
    "Video(\"media/videos/arvore_conceitual/480p15/ArvoreConceitual.mp4\")\n"
   ]
  }
 ],
 "metadata": {
  "kernelspec": {
   "display_name": "Python 3 (ipykernel)",
   "language": "python",
   "name": "python3"
  },
  "language_info": {
   "codemirror_mode": {
    "name": "ipython",
    "version": 3
   },
   "file_extension": ".py",
   "mimetype": "text/x-python",
   "name": "python",
   "nbconvert_exporter": "python",
   "pygments_lexer": "ipython3",
   "version": "3.9.20"
  }
 },
 "nbformat": 4,
 "nbformat_minor": 5
}
