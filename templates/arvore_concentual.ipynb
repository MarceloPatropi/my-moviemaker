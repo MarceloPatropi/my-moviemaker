{
 "cells": [
  {
   "cell_type": "code",
   "execution_count": 601,
   "id": "c3f3d464-5289-4f9a-9724-e59adefa1ec3",
   "metadata": {},
   "outputs": [],
   "source": [
    "# Importar bibliotecas necessárias\n",
    "import pandas as pd\n",
    "from manim import *\n",
    "from IPython.display import display, Markdown"
   ]
  },
  {
   "cell_type": "code",
   "execution_count": 602,
   "id": "bad0a26f",
   "metadata": {},
   "outputs": [
    {
     "data": {
      "text/html": [
       "<pre style=\"white-space:pre;overflow-x:auto;line-height:normal;font-family:Menlo,'DejaVu Sans Mono',consolas,'Courier New',monospace\">   id       text      shape parent\n",
       "<span style=\"color: #008000; text-decoration-color: #008000\">0</span>   <span style=\"color: #008000; text-decoration-color: #008000\">1</span>       Raiz     circle       \n",
       "<span style=\"color: #008000; text-decoration-color: #008000\">1</span>   <span style=\"color: #008000; text-decoration-color: #008000\">2</span>    Galho <span style=\"color: #008000; text-decoration-color: #008000\">1</span>  rectangle      <span style=\"color: #008000; text-decoration-color: #008000\">1</span>\n",
       "<span style=\"color: #008000; text-decoration-color: #008000\">2</span>   <span style=\"color: #008000; text-decoration-color: #008000\">3</span>    Galho <span style=\"color: #008000; text-decoration-color: #008000\">2</span>  rectangle      <span style=\"color: #008000; text-decoration-color: #008000\">1</span>\n",
       "<span style=\"color: #008000; text-decoration-color: #008000\">3</span>   <span style=\"color: #008000; text-decoration-color: #008000\">6</span>    Galho <span style=\"color: #008000; text-decoration-color: #008000\">3</span>  rectangle      <span style=\"color: #008000; text-decoration-color: #008000\">1</span>\n",
       "<span style=\"color: #008000; text-decoration-color: #008000\">4</span>   <span style=\"color: #008000; text-decoration-color: #008000\">4</span>  Folha <span style=\"color: #008000; text-decoration-color: #008000\">2.1</span>    ellipse      <span style=\"color: #008000; text-decoration-color: #008000\">2</span>\n",
       "<span style=\"color: #008000; text-decoration-color: #008000\">5</span>   <span style=\"color: #008000; text-decoration-color: #008000\">5</span>  Folha <span style=\"color: #008000; text-decoration-color: #008000\">2.2</span>    ellipse      <span style=\"color: #008000; text-decoration-color: #008000\">2</span>\n",
       "<span style=\"color: #008000; text-decoration-color: #008000\">6</span>   <span style=\"color: #008000; text-decoration-color: #008000\">7</span>  Folha <span style=\"color: #008000; text-decoration-color: #008000\">3.1</span>    ellipse      <span style=\"color: #008000; text-decoration-color: #008000\">6</span>\n",
       "<span style=\"color: #008000; text-decoration-color: #008000\">7</span>   <span style=\"color: #008000; text-decoration-color: #008000\">8</span>    Galho <span style=\"color: #008000; text-decoration-color: #008000\">4</span>  rectangle      <span style=\"color: #008000; text-decoration-color: #008000\">1</span>\n",
       "</pre>\n"
      ],
      "text/plain": [
       "   id       text      shape parent\n",
       "\u001b[32m0\u001b[0m   \u001b[32m1\u001b[0m       Raiz     circle       \n",
       "\u001b[32m1\u001b[0m   \u001b[32m2\u001b[0m    Galho \u001b[32m1\u001b[0m  rectangle      \u001b[32m1\u001b[0m\n",
       "\u001b[32m2\u001b[0m   \u001b[32m3\u001b[0m    Galho \u001b[32m2\u001b[0m  rectangle      \u001b[32m1\u001b[0m\n",
       "\u001b[32m3\u001b[0m   \u001b[32m6\u001b[0m    Galho \u001b[32m3\u001b[0m  rectangle      \u001b[32m1\u001b[0m\n",
       "\u001b[32m4\u001b[0m   \u001b[32m4\u001b[0m  Folha \u001b[32m2.1\u001b[0m    ellipse      \u001b[32m2\u001b[0m\n",
       "\u001b[32m5\u001b[0m   \u001b[32m5\u001b[0m  Folha \u001b[32m2.2\u001b[0m    ellipse      \u001b[32m2\u001b[0m\n",
       "\u001b[32m6\u001b[0m   \u001b[32m7\u001b[0m  Folha \u001b[32m3.1\u001b[0m    ellipse      \u001b[32m6\u001b[0m\n",
       "\u001b[32m7\u001b[0m   \u001b[32m8\u001b[0m    Galho \u001b[32m4\u001b[0m  rectangle      \u001b[32m1\u001b[0m\n"
      ]
     },
     "metadata": {},
     "output_type": "display_data"
    }
   ],
   "source": [
    "# Ler o arquivo Markdown no formato de tabela\n",
    "file_path = \"/home/patropi/my-moviemaker/scenes/arvore_conceitual.md\" \n",
    "data = pd.read_csv(file_path, sep=\"|\", skiprows=1, usecols=[1, 2, 3, 4])\n",
    "\n",
    "# Renomear colunas e limpar espaços extras\n",
    "data.columns = [\"id\", \"text\", \"shape\", \"parent\"]\n",
    "data = data.apply(lambda x: x.str.strip() if x.dtype == \"object\" else x)\n",
    "\n",
    "console.print(data)"
   ]
  },
  {
   "cell_type": "code",
   "execution_count": 603,
   "id": "d3ac3284",
   "metadata": {},
   "outputs": [],
   "source": [
    "# Função para converter colunas para tipos apropriados\n",
    "def convert_column_types(df):\n",
    "    for column in df.columns:\n",
    "        try:\n",
    "            # Tentar converter para numérico\n",
    "            df[column] = pd.to_numeric(df[column])\n",
    "            \n",
    "            # Verificar se a coluna pode ser convertida para inteiro\n",
    "            if pd.api.types.is_float_dtype(df[column]):\n",
    "                if df[column].dropna().apply(float.is_integer).all():\n",
    "                    df[column] = df[column].astype('Int64')\n",
    "        except ValueError:\n",
    "            # Se a conversão falhar, manter os valores originais\n",
    "            df[column] = df[column].astype(str)\n",
    "    \n",
    "    return df"
   ]
  },
  {
   "cell_type": "code",
   "execution_count": 604,
   "id": "9d933e3c",
   "metadata": {},
   "outputs": [
    {
     "data": {
      "text/markdown": [
       "### Tabela da Árvore Conceitual"
      ],
      "text/plain": [
       "<IPython.core.display.Markdown object>"
      ]
     },
     "metadata": {},
     "output_type": "display_data"
    },
    {
     "data": {
      "text/html": [
       "<div>\n",
       "<style scoped>\n",
       "    .dataframe tbody tr th:only-of-type {\n",
       "        vertical-align: middle;\n",
       "    }\n",
       "\n",
       "    .dataframe tbody tr th {\n",
       "        vertical-align: top;\n",
       "    }\n",
       "\n",
       "    .dataframe thead th {\n",
       "        text-align: right;\n",
       "    }\n",
       "</style>\n",
       "<table border=\"1\" class=\"dataframe\">\n",
       "  <thead>\n",
       "    <tr style=\"text-align: right;\">\n",
       "      <th></th>\n",
       "      <th>id</th>\n",
       "      <th>text</th>\n",
       "      <th>shape</th>\n",
       "      <th>parent</th>\n",
       "    </tr>\n",
       "  </thead>\n",
       "  <tbody>\n",
       "    <tr>\n",
       "      <th>0</th>\n",
       "      <td>1</td>\n",
       "      <td>Raiz</td>\n",
       "      <td>circle</td>\n",
       "      <td>&lt;NA&gt;</td>\n",
       "    </tr>\n",
       "    <tr>\n",
       "      <th>1</th>\n",
       "      <td>2</td>\n",
       "      <td>Galho 1</td>\n",
       "      <td>rectangle</td>\n",
       "      <td>1</td>\n",
       "    </tr>\n",
       "    <tr>\n",
       "      <th>2</th>\n",
       "      <td>3</td>\n",
       "      <td>Galho 2</td>\n",
       "      <td>rectangle</td>\n",
       "      <td>1</td>\n",
       "    </tr>\n",
       "    <tr>\n",
       "      <th>3</th>\n",
       "      <td>6</td>\n",
       "      <td>Galho 3</td>\n",
       "      <td>rectangle</td>\n",
       "      <td>1</td>\n",
       "    </tr>\n",
       "    <tr>\n",
       "      <th>4</th>\n",
       "      <td>4</td>\n",
       "      <td>Folha 2.1</td>\n",
       "      <td>ellipse</td>\n",
       "      <td>2</td>\n",
       "    </tr>\n",
       "    <tr>\n",
       "      <th>5</th>\n",
       "      <td>5</td>\n",
       "      <td>Folha 2.2</td>\n",
       "      <td>ellipse</td>\n",
       "      <td>2</td>\n",
       "    </tr>\n",
       "    <tr>\n",
       "      <th>6</th>\n",
       "      <td>7</td>\n",
       "      <td>Folha 3.1</td>\n",
       "      <td>ellipse</td>\n",
       "      <td>6</td>\n",
       "    </tr>\n",
       "    <tr>\n",
       "      <th>7</th>\n",
       "      <td>8</td>\n",
       "      <td>Galho 4</td>\n",
       "      <td>rectangle</td>\n",
       "      <td>1</td>\n",
       "    </tr>\n",
       "  </tbody>\n",
       "</table>\n",
       "</div>"
      ],
      "text/plain": [
       "   id       text      shape  parent\n",
       "0   1       Raiz     circle    <NA>\n",
       "1   2    Galho 1  rectangle       1\n",
       "2   3    Galho 2  rectangle       1\n",
       "3   6    Galho 3  rectangle       1\n",
       "4   4  Folha 2.1    ellipse       2\n",
       "5   5  Folha 2.2    ellipse       2\n",
       "6   7  Folha 3.1    ellipse       6\n",
       "7   8    Galho 4  rectangle       1"
      ]
     },
     "metadata": {},
     "output_type": "display_data"
    }
   ],
   "source": [
    "# Aplicar a função ao DataFrame\n",
    "data = convert_column_types(data)\n",
    "\n",
    "# Exibir título e tabela\n",
    "display(Markdown(\"### Tabela da Árvore Conceitual\"))\n",
    "display(data)"
   ]
  },
  {
   "cell_type": "code",
   "execution_count": 612,
   "id": "ac0feff7",
   "metadata": {},
   "outputs": [
    {
     "data": {
      "text/html": [
       "<pre style=\"white-space:pre;overflow-x:auto;line-height:normal;font-family:Menlo,'DejaVu Sans Mono',consolas,'Courier New',monospace\">Manim Community <span style=\"color: #008000; text-decoration-color: #008000\">v0.18.1</span>\n",
       "\n",
       "</pre>\n"
      ],
      "text/plain": [
       "Manim Community \u001b[32mv0.\u001b[0m\u001b[32m18.1\u001b[0m\n",
       "\n"
      ]
     },
     "metadata": {},
     "output_type": "display_data"
    },
    {
     "name": "stderr",
     "output_type": "stream",
     "text": [
      "                                                                                                            \r"
     ]
    },
    {
     "data": {
      "image/png": "[encoded data removed]",
      "text/plain": [
       "<IPython.core.display.Image object>"
      ]
     },
     "metadata": {},
     "output_type": "display_data"
    }
   ],
   "source": [
    "# %%manim -qm -v WARNING ArvoreConceitual\n",
    "\n",
    "# Construir a Cena da árvore conceitual\n",
    "class ArvoreConceitual(Scene):\n",
    "    def construct(self):\n",
    "        data[\"node\"] = None\n",
    "\n",
    "        for _, node in data.iterrows():\n",
    "            if node[\"shape\"] == \"circle\":\n",
    "                node_shape = Circle().scale(0.5).set_fill(BLUE, opacity=0.5)\n",
    "            elif node[\"shape\"] == \"rectangle\":\n",
    "                node_shape = Square().scale(0.5).set_fill(RED, opacity=0.5)\n",
    "            elif node[\"shape\"] == \"ellipse\":\n",
    "                node_shape = Ellipse(width=2.0, height=1.0).set_fill(GREEN, opacity=0.5)\n",
    "            else:\n",
    "                node_shape = Dot()\n",
    "            \n",
    "            node_text = Text(node[\"text\"]).scale(0.5)\n",
    "            group = VGroup(node_shape, node_text).arrange(UP)\n",
    "\n",
    "            if pd.isna(node[\"parent\"]):\n",
    "                group.move_to(ORIGIN)\n",
    "                data.at[node.name, \"node\"] = group\n",
    "            else:\n",
    "                parent_node = data.loc[data[\"id\"] == node[\"parent\"]].iloc[0]\n",
    "                if parent_node is not None:\n",
    "                    n_sibilings = len(data.loc[data[\"parent\"] == parent_node[\"id\"]])\n",
    "                    offset = (RIGHT * (node.name - len(data.loc[data[\"parent\"] == parent_node[\"id\"]]) / 2)) * 1.5\n",
    "                    group.next_to(parent_node[\"node\"], DOWN, buff=1).shift(offset)\n",
    "                    data.at[node.name, \"node\"] = group\n",
    "\n",
    "        def create_children(raiz, level=0):\n",
    "#            self.add(raiz[\"node\"])\n",
    "            self.play(Create(raiz[\"node\"]))\n",
    "            children = data.loc[data[\"parent\"] == raiz[\"id\"]]\n",
    "            if not children.empty:\n",
    "                level += 1\n",
    "                index = 0.5\n",
    "                for _, node in children.iterrows():\n",
    "                    group = node[\"node\"]\n",
    "                    offset = (RIGHT * (index - len(children) / 2)) * 2\n",
    "                    group.next_to(raiz[\"node\"], DOWN, buff=1).shift(offset)\n",
    "                    index += 1\n",
    "                    # Adicionar linha curva entre o nó pai e o nó filho\n",
    "                    line = CubicBezier(raiz[\"node\"].get_bottom(), raiz[\"node\"].get_bottom() + DOWN, group.get_top() + UP, group.get_top())\n",
    "#                    self.add(line)\n",
    "                    self.play(Create(line))\n",
    "                    create_children(node, level)\n",
    "\n",
    "        raiz = data.loc[data[\"parent\"].isna()].iloc[0]\n",
    "        raiz[\"node\"].move_to(ORIGIN)\n",
    "        create_children(raiz)\n",
    "\n",
    "        # Ajustar o tamanho da imagem para acomodar todos os itens\n",
    "        #self.camera.frame.scale(1.5)\n"
   ]
  },
  {
   "cell_type": "code",
   "execution_count": 611,
   "id": "8eb9649d-db04-44db-adfd-6f14085b9b0c",
   "metadata": {},
   "outputs": [
    {
     "name": "stderr",
     "output_type": "stream",
     "text": [
      "                                                                                                            \r"
     ]
    },
    {
     "data": {
      "text/html": [
       "<video controls  >\n",
       " <source src=\"data:None;base64,media/videos/arvore_conceitual/480p15/ArvoreConceitual.mp4\" type=\"None\">\n",
       " Your browser does not support the video tag.\n",
       " </video>"
      ],
      "text/plain": [
       "<IPython.core.display.Video object>"
      ]
     },
     "execution_count": 611,
     "metadata": {},
     "output_type": "execute_result"
    }
   ],
   "source": [
    "# Renderizar a cena\n",
    "config.media_width = \"75%\"\n",
    "#console.log(tree_data)\n",
    "scene = ArvoreConceitual()\n",
    "scene.render()\n",
    "\n",
    "# Salvar o resultado em formato PNG\n",
    "#scene.get_image().save(\"/home/patropi/my-moviemaker/media/images/arvore_conceitual.png\")\n",
    "\n",
    "# Salvar o resultado em formato MPG\n",
    "#scene.get_movie_file_path().replace(\".mp4\", \".mpg\")\n",
    "\n",
    "# Mostrar o vídeo renderizado\n",
    "from IPython.display import Video\n",
    "Video(\"media/videos/arvore_conceitual/480p15/ArvoreConceitual.mp4\", embed=True)\n"
   ]
  }
 ],
 "metadata": {
  "kernelspec": {
   "display_name": "Python 3 (ipykernel)",
   "language": "python",
   "name": "python3"
  },
  "language_info": {
   "codemirror_mode": {
    "name": "ipython",
    "version": 3
   },
   "file_extension": ".py",
   "mimetype": "text/x-python",
   "name": "python",
   "nbconvert_exporter": "python",
   "pygments_lexer": "ipython3",
   "version": "3.10.16"
  }
 },
 "nbformat": 4,
 "nbformat_minor": 5
}
